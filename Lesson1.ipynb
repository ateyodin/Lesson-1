{
  "nbformat": 4,
  "nbformat_minor": 0,
  "metadata": {
    "colab": {
      "name": "Lesson1.ipynb",
      "version": "0.3.2",
      "provenance": [],
      "collapsed_sections": [],
      "toc_visible": true,
      "include_colab_link": true
    },
    "kernelspec": {
      "name": "python3",
      "display_name": "Python 3"
    }
  },
  "cells": [
    {
      "cell_type": "markdown",
      "metadata": {
        "id": "view-in-github",
        "colab_type": "text"
      },
      "source": [
        "<a href=\"https://colab.research.google.com/github/ateyodin/Lesson-1/blob/master/Lesson1.ipynb\" target=\"_parent\"><img src=\"https://colab.research.google.com/assets/colab-badge.svg\" alt=\"Open In Colab\"/></a>"
      ]
    },
    {
      "cell_type": "markdown",
      "metadata": {
        "id": "bzcOLUZP0Wsp",
        "colab_type": "text"
      },
      "source": [
        "# **Homework**"
      ]
    },
    {
      "cell_type": "code",
      "metadata": {
        "id": "Klageer30Igq",
        "colab_type": "code",
        "outputId": "5cd979d9-495e-4234-9c49-a778f3100cd7",
        "colab": {
          "base_uri": "https://localhost:8080/",
          "height": 51
        }
      },
      "source": [
        "!curl -s https://course.fast.ai/setup/colab | bash"
      ],
      "execution_count": 0,
      "outputs": [
        {
          "output_type": "stream",
          "text": [
            "Updating fastai...\n",
            "Done.\n"
          ],
          "name": "stdout"
        }
      ]
    },
    {
      "cell_type": "markdown",
      "metadata": {
        "id": "w-JzD1i-urUv",
        "colab_type": "text"
      },
      "source": [
        "**Adding everything we need**"
      ]
    },
    {
      "cell_type": "code",
      "metadata": {
        "id": "cFEjGYY200At",
        "colab_type": "code",
        "colab": {}
      },
      "source": [
        "%reload_ext autoreload\n",
        "%autoreload 2\n",
        "%matplotlib inline"
      ],
      "execution_count": 0,
      "outputs": []
    },
    {
      "cell_type": "code",
      "metadata": {
        "id": "8t4s86sF1Ek4",
        "colab_type": "code",
        "colab": {}
      },
      "source": [
        "from fastai import *\n",
        "from fastai.vision import *"
      ],
      "execution_count": 0,
      "outputs": []
    },
    {
      "cell_type": "markdown",
      "metadata": {
        "id": "_8ilPMdAu36i",
        "colab_type": "text"
      },
      "source": [
        "**Getting Data**"
      ]
    },
    {
      "cell_type": "code",
      "metadata": {
        "id": "lQRBdc8e1OT5",
        "colab_type": "code",
        "outputId": "e3535833-8657-46ac-c2ed-eb2319c9f6aa",
        "colab": {
          "base_uri": "https://localhost:8080/",
          "height": 34
        }
      },
      "source": [
        "path = untar_data(URLs.MNIST); path"
      ],
      "execution_count": 0,
      "outputs": [
        {
          "output_type": "execute_result",
          "data": {
            "text/plain": [
              "PosixPath('/content/data/mnist_png')"
            ]
          },
          "metadata": {
            "tags": []
          },
          "execution_count": 22
        }
      ]
    },
    {
      "cell_type": "markdown",
      "metadata": {
        "id": "zw0xvq2HvMUi",
        "colab_type": "text"
      },
      "source": [
        "**Cheking everything inside folders**"
      ]
    },
    {
      "cell_type": "code",
      "metadata": {
        "id": "X7ap053k1lbf",
        "colab_type": "code",
        "outputId": "8000f88d-723d-418e-a544-64dbcd92e59c",
        "colab": {
          "base_uri": "https://localhost:8080/",
          "height": 51
        }
      },
      "source": [
        "path.ls()"
      ],
      "execution_count": 0,
      "outputs": [
        {
          "output_type": "execute_result",
          "data": {
            "text/plain": [
              "[PosixPath('/content/data/mnist_png/testing'),\n",
              " PosixPath('/content/data/mnist_png/training')]"
            ]
          },
          "metadata": {
            "tags": []
          },
          "execution_count": 23
        }
      ]
    },
    {
      "cell_type": "code",
      "metadata": {
        "id": "iYc-4l802jUm",
        "colab_type": "code",
        "outputId": "be00a3fd-554a-43e9-c325-9e796b8bde48",
        "colab": {
          "base_uri": "https://localhost:8080/",
          "height": 306
        }
      },
      "source": [
        "tfms = get_transforms(do_flip=False)\n",
        "data = ImageDataBunch.from_folder(path, train='training', valid='testing', ds_tfms=tfms, size=25) \n",
        "data.normalize(imagenet_stats)"
      ],
      "execution_count": 0,
      "outputs": [
        {
          "output_type": "execute_result",
          "data": {
            "text/plain": [
              "ImageDataBunch;\n",
              "\n",
              "Train: LabelList (60000 items)\n",
              "x: ImageList\n",
              "Image (3, 25, 25),Image (3, 25, 25),Image (3, 25, 25),Image (3, 25, 25),Image (3, 25, 25)\n",
              "y: CategoryList\n",
              "6,6,6,6,6\n",
              "Path: /content/data/mnist_png;\n",
              "\n",
              "Valid: LabelList (10000 items)\n",
              "x: ImageList\n",
              "Image (3, 25, 25),Image (3, 25, 25),Image (3, 25, 25),Image (3, 25, 25),Image (3, 25, 25)\n",
              "y: CategoryList\n",
              "6,6,6,6,6\n",
              "Path: /content/data/mnist_png;\n",
              "\n",
              "Test: None"
            ]
          },
          "metadata": {
            "tags": []
          },
          "execution_count": 24
        }
      ]
    },
    {
      "cell_type": "markdown",
      "metadata": {
        "id": "fBjNRRMBwA3t",
        "colab_type": "text"
      },
      "source": [
        "**Show**"
      ]
    },
    {
      "cell_type": "code",
      "metadata": {
        "id": "zRyiOcb43_aw",
        "colab_type": "code",
        "outputId": "e37a12fd-5489-4bed-f361-33dae238c8aa",
        "colab": {
          "base_uri": "https://localhost:8080/",
          "height": 441
        }
      },
      "source": [
        "data.show_batch(rows=3, figsize=(6,6))"
      ],
      "execution_count": 0,
      "outputs": [
        {
          "output_type": "display_data",
          "data": {
            "image/png": "[encoded data removed]",
            "text/plain": [
              "<Figure size 432x432 with 9 Axes>"
            ]
          },
          "metadata": {
            "tags": []
          }
        }
      ]
    },
    {
      "cell_type": "markdown",
      "metadata": {
        "id": "S5v0Fb-8v5dg",
        "colab_type": "text"
      },
      "source": [
        "**Checking classes**"
      ]
    },
    {
      "cell_type": "code",
      "metadata": {
        "id": "79OgKX6Y4bn0",
        "colab_type": "code",
        "outputId": "5b71f543-dd9e-47fa-d7c9-c9219f52b9ea",
        "colab": {
          "base_uri": "https://localhost:8080/",
          "height": 51
        }
      },
      "source": [
        "print(data.classes)\n",
        "len(data.classes),data.c"
      ],
      "execution_count": 0,
      "outputs": [
        {
          "output_type": "stream",
          "text": [
            "['0', '1', '2', '3', '4', '5', '6', '7', '8', '9']\n"
          ],
          "name": "stdout"
        },
        {
          "output_type": "execute_result",
          "data": {
            "text/plain": [
              "(10, 10)"
            ]
          },
          "metadata": {
            "tags": []
          },
          "execution_count": 26
        }
      ]
    },
    {
      "cell_type": "markdown",
      "metadata": {
        "id": "Z91TiQ04wJW3",
        "colab_type": "text"
      },
      "source": [
        "**Training using resnet34 - run for 4 epochs**"
      ]
    },
    {
      "cell_type": "code",
      "metadata": {
        "id": "so9GxySy5GWc",
        "colab_type": "code",
        "colab": {}
      },
      "source": [
        "learn = cnn_learner(data, models.resnet34, metrics=error_rate)"
      ],
      "execution_count": 0,
      "outputs": []
    },
    {
      "cell_type": "code",
      "metadata": {
        "id": "uk7bpyOfYzHd",
        "colab_type": "code",
        "outputId": "e81338a4-7572-4550-c20d-c7978c897354",
        "colab": {
          "base_uri": "https://localhost:8080/",
          "height": 173
        }
      },
      "source": [
        "learn.fit_one_cycle(4)"
      ],
      "execution_count": 0,
      "outputs": [
        {
          "output_type": "display_data",
          "data": {
            "text/html": [
              "<table border=\"1\" class=\"dataframe\">\n",
              "  <thead>\n",
              "    <tr style=\"text-align: left;\">\n",
              "      <th>epoch</th>\n",
              "      <th>train_loss</th>\n",
              "      <th>valid_loss</th>\n",
              "      <th>error_rate</th>\n",
              "      <th>time</th>\n",
              "    </tr>\n",
              "  </thead>\n",
              "  <tbody>\n",
              "    <tr>\n",
              "      <td>0</td>\n",
              "      <td>0.595556</td>\n",
              "      <td>0.330717</td>\n",
              "      <td>0.106400</td>\n",
              "      <td>14:29</td>\n",
              "    </tr>\n",
              "    <tr>\n",
              "      <td>1</td>\n",
              "      <td>0.251771</td>\n",
              "      <td>0.119217</td>\n",
              "      <td>0.036500</td>\n",
              "      <td>14:20</td>\n",
              "    </tr>\n",
              "    <tr>\n",
              "      <td>2</td>\n",
              "      <td>0.188307</td>\n",
              "      <td>0.082752</td>\n",
              "      <td>0.025200</td>\n",
              "      <td>14:33</td>\n",
              "    </tr>\n",
              "    <tr>\n",
              "      <td>3</td>\n",
              "      <td>0.154421</td>\n",
              "      <td>0.075391</td>\n",
              "      <td>0.024100</td>\n",
              "      <td>14:29</td>\n",
              "    </tr>\n",
              "  </tbody>\n",
              "</table>"
            ],
            "text/plain": [
              "<IPython.core.display.HTML object>"
            ]
          },
          "metadata": {
            "tags": []
          }
        }
      ]
    },
    {
      "cell_type": "code",
      "metadata": {
        "id": "ZtVgpb8HMRFG",
        "colab_type": "code",
        "colab": {}
      },
      "source": [
        "learn.save('stage-1')"
      ],
      "execution_count": 0,
      "outputs": []
    },
    {
      "cell_type": "markdown",
      "metadata": {
        "id": "gB2I2PlVxWC_",
        "colab_type": "text"
      },
      "source": [
        "**Results showing our predictions, actual number, loss and probability**"
      ]
    },
    {
      "cell_type": "code",
      "metadata": {
        "id": "zp4GZt4MMpDw",
        "colab_type": "code",
        "colab": {}
      },
      "source": [
        "interpretation = ClassificationInterpretation.from_learner(learn)"
      ],
      "execution_count": 0,
      "outputs": []
    },
    {
      "cell_type": "code",
      "metadata": {
        "id": "ca8u_2TPNaFM",
        "colab_type": "code",
        "colab": {
          "base_uri": "https://localhost:8080/",
          "height": 417
        },
        "outputId": "09038792-22a1-4ba6-d9de-7b4025389b7d"
      },
      "source": [
        "interpretation.plot_top_losses(9, figsize=(6,6))"
      ],
      "execution_count": 34,
      "outputs": [
        {
          "output_type": "display_data",
          "data": {
            "image/png": "[encoded data removed]",
            "text/plain": [
              "<Figure size 432x432 with 9 Axes>"
            ]
          },
          "metadata": {
            "tags": []
          }
        }
      ]
    },
    {
      "cell_type": "markdown",
      "metadata": {
        "id": "rah2t3YMyMLh",
        "colab_type": "text"
      },
      "source": [
        "**Confusion matrix to check wich combinations makes most mistakes**"
      ]
    },
    {
      "cell_type": "code",
      "metadata": {
        "id": "YIaIWjxtOpRu",
        "colab_type": "code",
        "colab": {
          "base_uri": "https://localhost:8080/",
          "height": 383
        },
        "outputId": "561c9004-6ada-4b81-f5bb-25fffedeb6af"
      },
      "source": [
        "interpretation.plot_confusion_matrix(figsize=(6,6), dpi=60)"
      ],
      "execution_count": 35,
      "outputs": [
        {
          "output_type": "display_data",
          "data": {
            "image/png": "[encoded data removed]",
            "text/plain": [
              "<Figure size 360x360 with 1 Axes>"
            ]
          },
          "metadata": {
            "tags": []
          }
        }
      ]
    },
    {
      "cell_type": "code",
      "metadata": {
        "id": "7XCHyTVTO8UT",
        "colab_type": "code",
        "colab": {
          "base_uri": "https://localhost:8080/",
          "height": 816
        },
        "outputId": "0949133a-6df9-44e3-e746-4cf6c277df94"
      },
      "source": [
        "interpretation.most_confused(min_val=2)"
      ],
      "execution_count": 36,
      "outputs": [
        {
          "output_type": "execute_result",
          "data": {
            "text/plain": [
              "[('9', '8', 16),\n",
              " ('7', '9', 14),\n",
              " ('9', '4', 12),\n",
              " ('8', '9', 11),\n",
              " ('9', '7', 10),\n",
              " ('2', '8', 9),\n",
              " ('3', '5', 9),\n",
              " ('3', '8', 9),\n",
              " ('5', '8', 9),\n",
              " ('4', '9', 7),\n",
              " ('0', '2', 6),\n",
              " ('0', '6', 6),\n",
              " ('3', '2', 6),\n",
              " ('8', '6', 6),\n",
              " ('5', '3', 5),\n",
              " ('8', '4', 5),\n",
              " ('9', '0', 5),\n",
              " ('2', '3', 4),\n",
              " ('2', '7', 4),\n",
              " ('6', '4', 4),\n",
              " ('7', '2', 4),\n",
              " ('7', '4', 4),\n",
              " ('8', '5', 4),\n",
              " ('0', '9', 3),\n",
              " ('1', '6', 3),\n",
              " ('2', '0', 3),\n",
              " ('3', '7', 3),\n",
              " ('4', '8', 3),\n",
              " ('5', '6', 3),\n",
              " ('6', '5', 3),\n",
              " ('6', '8', 3),\n",
              " ('8', '0', 3),\n",
              " ('8', '3', 3),\n",
              " ('9', '5', 3),\n",
              " ('1', '7', 2),\n",
              " ('1', '8', 2),\n",
              " ('2', '9', 2),\n",
              " ('3', '9', 2),\n",
              " ('5', '2', 2),\n",
              " ('5', '7', 2),\n",
              " ('6', '1', 2),\n",
              " ('7', '1', 2),\n",
              " ('7', '3', 2),\n",
              " ('8', '2', 2),\n",
              " ('8', '7', 2),\n",
              " ('9', '1', 2),\n",
              " ('9', '3', 2)]"
            ]
          },
          "metadata": {
            "tags": []
          },
          "execution_count": 36
        }
      ]
    },
    {
      "cell_type": "markdown",
      "metadata": {
        "id": "hj2BZHLszhKS",
        "colab_type": "text"
      },
      "source": [
        "**Learning rate**"
      ]
    },
    {
      "cell_type": "code",
      "metadata": {
        "id": "nVcMHGM6PUIh",
        "colab_type": "code",
        "colab": {
          "base_uri": "https://localhost:8080/",
          "height": 300
        },
        "outputId": "195e62da-e2fc-43ef-a5d2-e55e79f772fb"
      },
      "source": [
        "learn.lr_find()\n",
        "learn.recorder.plot()"
      ],
      "execution_count": 37,
      "outputs": [
        {
          "output_type": "display_data",
          "data": {
            "text/html": [
              ""
            ],
            "text/plain": [
              "<IPython.core.display.HTML object>"
            ]
          },
          "metadata": {
            "tags": []
          }
        },
        {
          "output_type": "stream",
          "text": [
            "LR Finder is complete, type {learner_name}.recorder.plot() to see the graph.\n"
          ],
          "name": "stdout"
        },
        {
          "output_type": "display_data",
          "data": {
            "image/png": "[encoded data removed]",
            "text/plain": [
              "<Figure size 432x288 with 1 Axes>"
            ]
          },
          "metadata": {
            "tags": []
          }
        }
      ]
    },
    {
      "cell_type": "markdown",
      "metadata": {
        "id": "1xWADpbIy2sF",
        "colab_type": "text"
      },
      "source": [
        "**Retraining model**"
      ]
    },
    {
      "cell_type": "code",
      "metadata": {
        "id": "5T73P0jNUTdx",
        "colab_type": "code",
        "colab": {}
      },
      "source": [
        "learn.unfreeze()"
      ],
      "execution_count": 0,
      "outputs": []
    },
    {
      "cell_type": "code",
      "metadata": {
        "id": "sXWhiGI0UWhS",
        "colab_type": "code",
        "colab": {
          "base_uri": "https://localhost:8080/",
          "height": 80
        },
        "outputId": "210b32c7-d57e-4d6e-874d-5909761eba7e"
      },
      "source": [
        "learn.fit_one_cycle(1)"
      ],
      "execution_count": 40,
      "outputs": [
        {
          "output_type": "display_data",
          "data": {
            "text/html": [
              "<table border=\"1\" class=\"dataframe\">\n",
              "  <thead>\n",
              "    <tr style=\"text-align: left;\">\n",
              "      <th>epoch</th>\n",
              "      <th>train_loss</th>\n",
              "      <th>valid_loss</th>\n",
              "      <th>error_rate</th>\n",
              "      <th>time</th>\n",
              "    </tr>\n",
              "  </thead>\n",
              "  <tbody>\n",
              "    <tr>\n",
              "      <td>0</td>\n",
              "      <td>0.054340</td>\n",
              "      <td>0.020980</td>\n",
              "      <td>0.006900</td>\n",
              "      <td>39:40</td>\n",
              "    </tr>\n",
              "  </tbody>\n",
              "</table>"
            ],
            "text/plain": [
              "<IPython.core.display.HTML object>"
            ]
          },
          "metadata": {
            "tags": []
          }
        }
      ]
    },
    {
      "cell_type": "code",
      "metadata": {
        "id": "uAkI04UcduP2",
        "colab_type": "code",
        "colab": {}
      },
      "source": [
        "learn.load('stage-1');"
      ],
      "execution_count": 0,
      "outputs": []
    },
    {
      "cell_type": "code",
      "metadata": {
        "id": "oZfOlr3KeCHo",
        "colab_type": "code",
        "colab": {
          "base_uri": "https://localhost:8080/",
          "height": 111
        },
        "outputId": "845a810d-f8b7-45b2-cc74-5248188b2058"
      },
      "source": [
        "learn.unfreeze()\n",
        "learn.fit_one_cycle(2, max_lr=slice(1e-6,1e-4))"
      ],
      "execution_count": 42,
      "outputs": [
        {
          "output_type": "display_data",
          "data": {
            "text/html": [
              "<table border=\"1\" class=\"dataframe\">\n",
              "  <thead>\n",
              "    <tr style=\"text-align: left;\">\n",
              "      <th>epoch</th>\n",
              "      <th>train_loss</th>\n",
              "      <th>valid_loss</th>\n",
              "      <th>error_rate</th>\n",
              "      <th>time</th>\n",
              "    </tr>\n",
              "  </thead>\n",
              "  <tbody>\n",
              "    <tr>\n",
              "      <td>0</td>\n",
              "      <td>0.145150</td>\n",
              "      <td>0.055270</td>\n",
              "      <td>0.017300</td>\n",
              "      <td>30:43</td>\n",
              "    </tr>\n",
              "    <tr>\n",
              "      <td>1</td>\n",
              "      <td>0.120960</td>\n",
              "      <td>0.049664</td>\n",
              "      <td>0.015300</td>\n",
              "      <td>31:35</td>\n",
              "    </tr>\n",
              "  </tbody>\n",
              "</table>"
            ],
            "text/plain": [
              "<IPython.core.display.HTML object>"
            ]
          },
          "metadata": {
            "tags": []
          }
        }
      ]
    },
    {
      "cell_type": "code",
      "metadata": {
        "id": "frxa9JtcsY7R",
        "colab_type": "code",
        "colab": {
          "base_uri": "https://localhost:8080/",
          "height": 417
        },
        "outputId": "554295fb-2960-4ae7-e2c4-b437b75ed4d7"
      },
      "source": [
        "interpretation = ClassificationInterpretation.from_learner(learn)\n",
        "interpretation.plot_top_losses(9,figsize=(6,6))"
      ],
      "execution_count": 43,
      "outputs": [
        {
          "output_type": "display_data",
          "data": {
            "image/png": "[encoded data removed]",
            "text/plain": [
              "<Figure size 432x432 with 9 Axes>"
            ]
          },
          "metadata": {
            "tags": []
          }
        }
      ]
    },
    {
      "cell_type": "markdown",
      "metadata": {
        "id": "unNGszM60Rh2",
        "colab_type": "text"
      },
      "source": [
        "**Plot top loss (left to right) is showing a 6 a 7 and a 5 and our model has a 5 a 2 and 3 that was incorrect**"
      ]
    },
    {
      "cell_type": "code",
      "metadata": {
        "id": "t8oYwcdTtBW0",
        "colab_type": "code",
        "colab": {
          "base_uri": "https://localhost:8080/",
          "height": 383
        },
        "outputId": "bf6dc9b8-0fa5-4040-9464-5b79822b33ec"
      },
      "source": [
        "interpretation.plot_confusion_matrix(figsize=(6,6),dpi=60)"
      ],
      "execution_count": 44,
      "outputs": [
        {
          "output_type": "display_data",
          "data": {
            "image/png": "[encoded data removed]",
            "text/plain": [
              "<Figure size 360x360 with 1 Axes>"
            ]
          },
          "metadata": {
            "tags": []
          }
        }
      ]
    },
    {
      "cell_type": "markdown",
      "metadata": {
        "id": "nhTlg19Y1YSD",
        "colab_type": "text"
      },
      "source": [
        "**We can see a high match rate in the confusion matrix between predicted and actual numbers. looks like number 9 has been mistaken for a 8 a couple of times**"
      ]
    },
    {
      "cell_type": "code",
      "metadata": {
        "id": "DRt2JPtjttKp",
        "colab_type": "code",
        "colab": {
          "base_uri": "https://localhost:8080/",
          "height": 629
        },
        "outputId": "f4b4bc54-242e-457e-bb10-0783d9639e04"
      },
      "source": [
        "interpretation.most_confused(min_val=2)"
      ],
      "execution_count": 45,
      "outputs": [
        {
          "output_type": "execute_result",
          "data": {
            "text/plain": [
              "[('9', '8', 13),\n",
              " ('4', '9', 8),\n",
              " ('7', '9', 7),\n",
              " ('8', '9', 7),\n",
              " ('9', '7', 6),\n",
              " ('2', '7', 5),\n",
              " ('2', '8', 5),\n",
              " ('3', '8', 5),\n",
              " ('8', '4', 5),\n",
              " ('9', '5', 5),\n",
              " ('0', '2', 4),\n",
              " ('0', '6', 4),\n",
              " ('5', '3', 4),\n",
              " ('2', '0', 3),\n",
              " ('2', '1', 3),\n",
              " ('3', '2', 3),\n",
              " ('3', '5', 3),\n",
              " ('4', '8', 3),\n",
              " ('5', '8', 3),\n",
              " ('6', '1', 3),\n",
              " ('6', '5', 3),\n",
              " ('6', '8', 3),\n",
              " ('7', '1', 3),\n",
              " ('7', '2', 3),\n",
              " ('8', '3', 3),\n",
              " ('9', '3', 3),\n",
              " ('9', '4', 3),\n",
              " ('1', '7', 2),\n",
              " ('2', '3', 2),\n",
              " ('3', '7', 2),\n",
              " ('3', '9', 2),\n",
              " ('6', '0', 2),\n",
              " ('6', '4', 2),\n",
              " ('7', '4', 2),\n",
              " ('8', '5', 2),\n",
              " ('9', '1', 2)]"
            ]
          },
          "metadata": {
            "tags": []
          },
          "execution_count": 45
        }
      ]
    }
  ]
}